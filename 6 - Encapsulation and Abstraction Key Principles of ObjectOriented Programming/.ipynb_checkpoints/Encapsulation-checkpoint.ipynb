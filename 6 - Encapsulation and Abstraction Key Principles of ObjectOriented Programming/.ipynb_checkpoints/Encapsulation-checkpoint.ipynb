{
 "cells": [
  {
   "cell_type": "code",
   "execution_count": 1,
   "id": "076d4227",
   "metadata": {},
   "outputs": [],
   "source": [
    "class Car:\n",
    "    \n",
    "    def __init__(self, brand, model, year):\n",
    "        self.brand = brand\n",
    "        self.model = model\n",
    "        self.year = year"
   ]
  },
  {
   "cell_type": "code",
   "execution_count": 2,
   "id": "44b18003",
   "metadata": {},
   "outputs": [],
   "source": [
    "my_car = Car(\"Porsche\", \"911 Carrera\", 2020)"
   ]
  },
  {
   "cell_type": "code",
   "execution_count": 3,
   "id": "5d580887",
   "metadata": {},
   "outputs": [
    {
     "data": {
      "text/plain": [
       "'Porsche'"
      ]
     },
     "execution_count": 3,
     "metadata": {},
     "output_type": "execute_result"
    }
   ],
   "source": [
    "my_car.brand"
   ]
  },
  {
   "cell_type": "code",
   "execution_count": 4,
   "id": "243f2729",
   "metadata": {},
   "outputs": [
    {
     "data": {
      "text/plain": [
       "'911 Carrera'"
      ]
     },
     "execution_count": 4,
     "metadata": {},
     "output_type": "execute_result"
    }
   ],
   "source": [
    "my_car.model"
   ]
  },
  {
   "cell_type": "code",
   "execution_count": 5,
   "id": "b555f41f",
   "metadata": {},
   "outputs": [
    {
     "data": {
      "text/plain": [
       "2020"
      ]
     },
     "execution_count": 5,
     "metadata": {},
     "output_type": "execute_result"
    }
   ],
   "source": [
    "my_car.year"
   ]
  },
  {
   "cell_type": "markdown",
   "id": "25439628",
   "metadata": {},
   "source": [
    "All the attributes are accessible outside the class as they are public"
   ]
  },
  {
   "cell_type": "code",
   "execution_count": 6,
   "id": "54853031",
   "metadata": {},
   "outputs": [],
   "source": [
    "my_car.year = 99000  # I want to restrict this instance varibale to change outside the class"
   ]
  },
  {
   "cell_type": "code",
   "execution_count": 7,
   "id": "fa3e6c36",
   "metadata": {},
   "outputs": [
    {
     "data": {
      "text/plain": [
       "99000"
      ]
     },
     "execution_count": 7,
     "metadata": {},
     "output_type": "execute_result"
    }
   ],
   "source": [
    "my_car.year"
   ]
  },
  {
   "cell_type": "markdown",
   "id": "9759b7d5",
   "metadata": {},
   "source": [
    "***"
   ]
  },
  {
   "cell_type": "code",
   "execution_count": 8,
   "id": "683630bf",
   "metadata": {},
   "outputs": [],
   "source": [
    "class Car:\n",
    "    \n",
    "    def __init__(self, brand, model, year):\n",
    "        self.brand = brand\n",
    "        self.model = model\n",
    "        self._year = year  # This instance variable is meant to be use inside the class only, \n",
    "                           # but it can be accessible out side the class"
   ]
  },
  {
   "cell_type": "code",
   "execution_count": 9,
   "id": "41326c40",
   "metadata": {},
   "outputs": [],
   "source": [
    "my_car = Car(\"Porsche\", \"911 Carrera\", 2020)"
   ]
  },
  {
   "cell_type": "code",
   "execution_count": 10,
   "id": "fee1d991",
   "metadata": {},
   "outputs": [
    {
     "data": {
      "text/plain": [
       "'Porsche'"
      ]
     },
     "execution_count": 10,
     "metadata": {},
     "output_type": "execute_result"
    }
   ],
   "source": [
    "my_car.brand"
   ]
  },
  {
   "cell_type": "code",
   "execution_count": 11,
   "id": "87b287ae",
   "metadata": {},
   "outputs": [
    {
     "data": {
      "text/plain": [
       "'911 Carrera'"
      ]
     },
     "execution_count": 11,
     "metadata": {},
     "output_type": "execute_result"
    }
   ],
   "source": [
    "my_car.model"
   ]
  },
  {
   "cell_type": "code",
   "execution_count": 12,
   "id": "19994011",
   "metadata": {},
   "outputs": [
    {
     "ename": "AttributeError",
     "evalue": "'Car' object has no attribute 'year'",
     "output_type": "error",
     "traceback": [
      "\u001b[1;31m---------------------------------------------------------------------------\u001b[0m",
      "\u001b[1;31mAttributeError\u001b[0m                            Traceback (most recent call last)",
      "Cell \u001b[1;32mIn[12], line 1\u001b[0m\n\u001b[1;32m----> 1\u001b[0m \u001b[43mmy_car\u001b[49m\u001b[38;5;241;43m.\u001b[39;49m\u001b[43myear\u001b[49m\n",
      "\u001b[1;31mAttributeError\u001b[0m: 'Car' object has no attribute 'year'"
     ]
    }
   ],
   "source": [
    "my_car.year"
   ]
  },
  {
   "cell_type": "code",
   "execution_count": 13,
   "id": "a15f4d82",
   "metadata": {},
   "outputs": [
    {
     "data": {
      "text/plain": [
       "2020"
      ]
     },
     "execution_count": 13,
     "metadata": {},
     "output_type": "execute_result"
    }
   ],
   "source": [
    "my_car._year"
   ]
  },
  {
   "cell_type": "markdown",
   "id": "8120c473",
   "metadata": {},
   "source": [
    "***"
   ]
  },
  {
   "cell_type": "markdown",
   "id": "1feb0ba2",
   "metadata": {},
   "source": [
    "### Name Mangling"
   ]
  },
  {
   "cell_type": "code",
   "execution_count": 14,
   "id": "0d46a33d",
   "metadata": {},
   "outputs": [],
   "source": [
    "class Backpack:\n",
    "    \n",
    "    def __init__(self):\n",
    "        self.__items = []"
   ]
  },
  {
   "cell_type": "code",
   "execution_count": 15,
   "id": "a64a8da4",
   "metadata": {},
   "outputs": [],
   "source": [
    "my_backpack = Backpack()"
   ]
  },
  {
   "cell_type": "code",
   "execution_count": 16,
   "id": "a8bf1407",
   "metadata": {},
   "outputs": [
    {
     "ename": "AttributeError",
     "evalue": "'Backpack' object has no attribute 'items'",
     "output_type": "error",
     "traceback": [
      "\u001b[1;31m---------------------------------------------------------------------------\u001b[0m",
      "\u001b[1;31mAttributeError\u001b[0m                            Traceback (most recent call last)",
      "Cell \u001b[1;32mIn[16], line 1\u001b[0m\n\u001b[1;32m----> 1\u001b[0m \u001b[43mmy_backpack\u001b[49m\u001b[38;5;241;43m.\u001b[39;49m\u001b[43mitems\u001b[49m\n",
      "\u001b[1;31mAttributeError\u001b[0m: 'Backpack' object has no attribute 'items'"
     ]
    }
   ],
   "source": [
    "my_backpack.items"
   ]
  },
  {
   "cell_type": "code",
   "execution_count": 19,
   "id": "67792dc4",
   "metadata": {},
   "outputs": [
    {
     "ename": "AttributeError",
     "evalue": "'Backpack' object has no attribute '__items'",
     "output_type": "error",
     "traceback": [
      "\u001b[1;31m---------------------------------------------------------------------------\u001b[0m",
      "\u001b[1;31mAttributeError\u001b[0m                            Traceback (most recent call last)",
      "Cell \u001b[1;32mIn[19], line 1\u001b[0m\n\u001b[1;32m----> 1\u001b[0m \u001b[43mmy_backpack\u001b[49m\u001b[38;5;241;43m.\u001b[39;49m\u001b[43m__items\u001b[49m\n",
      "\u001b[1;31mAttributeError\u001b[0m: 'Backpack' object has no attribute '__items'"
     ]
    }
   ],
   "source": [
    "my_backpack.__items  # Still not accessible"
   ]
  },
  {
   "cell_type": "code",
   "execution_count": 21,
   "id": "e1b281ae",
   "metadata": {},
   "outputs": [
    {
     "data": {
      "text/plain": [
       "[]"
      ]
     },
     "execution_count": 21,
     "metadata": {},
     "output_type": "execute_result"
    }
   ],
   "source": [
    "my_backpack._Backpack__items  # This how we acces it    _ClassName__variableName"
   ]
  },
  {
   "cell_type": "code",
   "execution_count": null,
   "id": "b8c644e0",
   "metadata": {},
   "outputs": [],
   "source": []
  }
 ],
 "metadata": {
  "kernelspec": {
   "display_name": "Python 3 (ipykernel)",
   "language": "python",
   "name": "python3"
  },
  "language_info": {
   "codemirror_mode": {
    "name": "ipython",
    "version": 3
   },
   "file_extension": ".py",
   "mimetype": "text/x-python",
   "name": "python",
   "nbconvert_exporter": "python",
   "pygments_lexer": "ipython3",
   "version": "3.10.8"
  }
 },
 "nbformat": 4,
 "nbformat_minor": 5
}
