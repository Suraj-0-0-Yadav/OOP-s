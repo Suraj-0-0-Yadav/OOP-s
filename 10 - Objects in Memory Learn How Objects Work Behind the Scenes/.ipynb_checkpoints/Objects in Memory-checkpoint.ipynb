{
 "cells": [
  {
   "cell_type": "code",
   "execution_count": 1,
   "id": "30adabc5",
   "metadata": {},
   "outputs": [
    {
     "name": "stdout",
     "output_type": "stream",
     "text": [
      "<class 'object'>\n"
     ]
    }
   ],
   "source": [
    "print(object)"
   ]
  },
  {
   "cell_type": "code",
   "execution_count": 2,
   "id": "1af540a2",
   "metadata": {},
   "outputs": [
    {
     "name": "stdout",
     "output_type": "stream",
     "text": [
      "True\n"
     ]
    }
   ],
   "source": [
    "print(isinstance(5, object))"
   ]
  },
  {
   "cell_type": "code",
   "execution_count": 3,
   "id": "36341056",
   "metadata": {},
   "outputs": [
    {
     "name": "stdout",
     "output_type": "stream",
     "text": [
      "True\n"
     ]
    }
   ],
   "source": [
    "print(isinstance([1,2,3], object))"
   ]
  },
  {
   "cell_type": "code",
   "execution_count": 4,
   "id": "14b94591",
   "metadata": {},
   "outputs": [
    {
     "name": "stdout",
     "output_type": "stream",
     "text": [
      "True\n"
     ]
    }
   ],
   "source": [
    "print(isinstance((1,2,3), object))"
   ]
  },
  {
   "cell_type": "code",
   "execution_count": 5,
   "id": "8a21a769",
   "metadata": {},
   "outputs": [
    {
     "name": "stdout",
     "output_type": "stream",
     "text": [
      "True\n"
     ]
    }
   ],
   "source": [
    "print(isinstance(\"Hello word\", object))"
   ]
  },
  {
   "cell_type": "code",
   "execution_count": 6,
   "id": "5ab304df",
   "metadata": {},
   "outputs": [
    {
     "name": "stdout",
     "output_type": "stream",
     "text": [
      "True\n"
     ]
    }
   ],
   "source": [
    "print(isinstance({'a':1, 'b':2}, object))"
   ]
  },
  {
   "cell_type": "code",
   "execution_count": 7,
   "id": "1460fb27",
   "metadata": {},
   "outputs": [
    {
     "name": "stdout",
     "output_type": "stream",
     "text": [
      "True\n"
     ]
    }
   ],
   "source": [
    "print(isinstance(True, object))"
   ]
  },
  {
   "cell_type": "code",
   "execution_count": 8,
   "id": "a5ca0d00",
   "metadata": {},
   "outputs": [],
   "source": [
    "def f(x):\n",
    "    return x"
   ]
  },
  {
   "cell_type": "code",
   "execution_count": 9,
   "id": "479c2e86",
   "metadata": {},
   "outputs": [
    {
     "name": "stdout",
     "output_type": "stream",
     "text": [
      "True\n"
     ]
    }
   ],
   "source": [
    "print(isinstance(f, object))"
   ]
  },
  {
   "cell_type": "code",
   "execution_count": 10,
   "id": "78f5370d",
   "metadata": {},
   "outputs": [],
   "source": [
    "class Movie:\n",
    "    \n",
    "    def __init__(self, title):\n",
    "        self.title = title"
   ]
  },
  {
   "cell_type": "code",
   "execution_count": 11,
   "id": "a29fc02d",
   "metadata": {},
   "outputs": [
    {
     "name": "stdout",
     "output_type": "stream",
     "text": [
      "True\n"
     ]
    }
   ],
   "source": [
    "print(isinstance(Movie, object))"
   ]
  },
  {
   "cell_type": "markdown",
   "id": "7a9a1d1d",
   "metadata": {},
   "source": [
    "***"
   ]
  },
  {
   "cell_type": "code",
   "execution_count": 12,
   "id": "590a17bf",
   "metadata": {},
   "outputs": [],
   "source": [
    "a = [1,2,3]"
   ]
  },
  {
   "cell_type": "code",
   "execution_count": 13,
   "id": "bf8052f2",
   "metadata": {},
   "outputs": [],
   "source": [
    "b=a"
   ]
  },
  {
   "cell_type": "code",
   "execution_count": 14,
   "id": "864e8c25",
   "metadata": {},
   "outputs": [
    {
     "data": {
      "text/plain": [
       "2355040756288"
      ]
     },
     "execution_count": 14,
     "metadata": {},
     "output_type": "execute_result"
    }
   ],
   "source": [
    "id(a)"
   ]
  },
  {
   "cell_type": "code",
   "execution_count": 15,
   "id": "ce1e3ade",
   "metadata": {},
   "outputs": [
    {
     "data": {
      "text/plain": [
       "2355040756288"
      ]
     },
     "execution_count": 15,
     "metadata": {},
     "output_type": "execute_result"
    }
   ],
   "source": [
    "id(b)"
   ]
  },
  {
   "cell_type": "code",
   "execution_count": 16,
   "id": "ba25a038",
   "metadata": {},
   "outputs": [],
   "source": [
    "b = [4,5,6]\n",
    "c = [4,5,6]"
   ]
  },
  {
   "cell_type": "code",
   "execution_count": 17,
   "id": "d8ec6392",
   "metadata": {},
   "outputs": [
    {
     "data": {
      "text/plain": [
       "2355050438784"
      ]
     },
     "execution_count": 17,
     "metadata": {},
     "output_type": "execute_result"
    }
   ],
   "source": [
    "id(b)"
   ]
  },
  {
   "cell_type": "code",
   "execution_count": 18,
   "id": "ac751cfe",
   "metadata": {},
   "outputs": [
    {
     "data": {
      "text/plain": [
       "2355049779584"
      ]
     },
     "execution_count": 18,
     "metadata": {},
     "output_type": "execute_result"
    }
   ],
   "source": [
    "id(c)"
   ]
  },
  {
   "cell_type": "markdown",
   "id": "8c450584",
   "metadata": {},
   "source": [
    "##### Both b and c have same value but they are different objects in memory"
   ]
  },
  {
   "cell_type": "code",
   "execution_count": null,
   "id": "359e3cd4",
   "metadata": {},
   "outputs": [],
   "source": []
  },
  {
   "cell_type": "code",
   "execution_count": 19,
   "id": "842fab30",
   "metadata": {},
   "outputs": [],
   "source": [
    "class Student:\n",
    "    \n",
    "    def __init__(self, name, age):\n",
    "        self.name = name\n",
    "        self.age = age"
   ]
  },
  {
   "cell_type": "code",
   "execution_count": 20,
   "id": "c10d4477",
   "metadata": {},
   "outputs": [],
   "source": [
    "student1 = Student(\"Jhon\",25)\n",
    "student2 = Student(\"Jhon\",25)"
   ]
  },
  {
   "cell_type": "code",
   "execution_count": 21,
   "id": "e2139efc",
   "metadata": {},
   "outputs": [
    {
     "data": {
      "text/plain": [
       "2355049869424"
      ]
     },
     "execution_count": 21,
     "metadata": {},
     "output_type": "execute_result"
    }
   ],
   "source": [
    "id(student1)"
   ]
  },
  {
   "cell_type": "code",
   "execution_count": 22,
   "id": "12e14379",
   "metadata": {},
   "outputs": [
    {
     "data": {
      "text/plain": [
       "2355049867792"
      ]
     },
     "execution_count": 22,
     "metadata": {},
     "output_type": "execute_result"
    }
   ],
   "source": [
    "id(student2)"
   ]
  },
  {
   "cell_type": "code",
   "execution_count": null,
   "id": "c1e89d18",
   "metadata": {},
   "outputs": [],
   "source": []
  },
  {
   "cell_type": "code",
   "execution_count": 23,
   "id": "85321bf5",
   "metadata": {},
   "outputs": [],
   "source": [
    "x = 10\n",
    "y = 10"
   ]
  },
  {
   "cell_type": "code",
   "execution_count": 24,
   "id": "452abf7c",
   "metadata": {},
   "outputs": [
    {
     "data": {
      "text/plain": [
       "2354966561296"
      ]
     },
     "execution_count": 24,
     "metadata": {},
     "output_type": "execute_result"
    }
   ],
   "source": [
    "id(x)"
   ]
  },
  {
   "cell_type": "code",
   "execution_count": 25,
   "id": "c8b01b6c",
   "metadata": {},
   "outputs": [
    {
     "data": {
      "text/plain": [
       "2354966561296"
      ]
     },
     "execution_count": 25,
     "metadata": {},
     "output_type": "execute_result"
    }
   ],
   "source": [
    "id(y)"
   ]
  },
  {
   "cell_type": "code",
   "execution_count": null,
   "id": "230d122d",
   "metadata": {},
   "outputs": [],
   "source": []
  }
 ],
 "metadata": {
  "kernelspec": {
   "display_name": "Python 3 (ipykernel)",
   "language": "python",
   "name": "python3"
  },
  "language_info": {
   "codemirror_mode": {
    "name": "ipython",
    "version": 3
   },
   "file_extension": ".py",
   "mimetype": "text/x-python",
   "name": "python",
   "nbconvert_exporter": "python",
   "pygments_lexer": "ipython3",
   "version": "3.10.8"
  }
 },
 "nbformat": 4,
 "nbformat_minor": 5
}
