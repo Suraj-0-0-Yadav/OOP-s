{
 "cells": [
  {
   "cell_type": "code",
   "execution_count": 1,
   "id": "7c9de051",
   "metadata": {},
   "outputs": [],
   "source": [
    "class Move:\n",
    "    \n",
    "    def __init__(self, value):\n",
    "        self._value = value\n",
    "    \n",
    "    @property\n",
    "    def value(self):\n",
    "        return self._value\n",
    "    \n",
    "    def is_valid(self):\n",
    "        return 1 <= self._value <= 9\n",
    "    \n",
    "    def get_row(self):\n",
    "        if self._value in (1,2,3):\n",
    "            return 0  # First row\n",
    "        elif self._value in (4,5,6):\n",
    "            return 1\n",
    "        else:\n",
    "            return 2\n",
    "    \n",
    "    def get_column(self):\n",
    "        if self._value in (1,4,7):\n",
    "            return 0  # First row\n",
    "        elif self._value in (2,5,8):\n",
    "            return 1\n",
    "        else:\n",
    "            return 2"
   ]
  },
  {
   "cell_type": "code",
   "execution_count": 2,
   "id": "d4c60e7f",
   "metadata": {},
   "outputs": [],
   "source": [
    "# 1  2  3\n",
    "# 4  5  6\n",
    "# 7  8  9"
   ]
  },
  {
   "cell_type": "code",
   "execution_count": 3,
   "id": "f4b830d1",
   "metadata": {},
   "outputs": [],
   "source": [
    "move = Move(1)"
   ]
  },
  {
   "cell_type": "code",
   "execution_count": 4,
   "id": "27971447",
   "metadata": {},
   "outputs": [
    {
     "data": {
      "text/plain": [
       "1"
      ]
     },
     "execution_count": 4,
     "metadata": {},
     "output_type": "execute_result"
    }
   ],
   "source": [
    "move.value"
   ]
  },
  {
   "cell_type": "code",
   "execution_count": 6,
   "id": "8c0ddf43",
   "metadata": {},
   "outputs": [
    {
     "data": {
      "text/plain": [
       "True"
      ]
     },
     "execution_count": 6,
     "metadata": {},
     "output_type": "execute_result"
    }
   ],
   "source": [
    "move.is_valid()"
   ]
  },
  {
   "cell_type": "code",
   "execution_count": 7,
   "id": "66552aaf",
   "metadata": {},
   "outputs": [
    {
     "data": {
      "text/plain": [
       "0"
      ]
     },
     "execution_count": 7,
     "metadata": {},
     "output_type": "execute_result"
    }
   ],
   "source": [
    "move.get_row()"
   ]
  },
  {
   "cell_type": "code",
   "execution_count": 9,
   "id": "2ee6d2d7",
   "metadata": {},
   "outputs": [
    {
     "data": {
      "text/plain": [
       "0"
      ]
     },
     "execution_count": 9,
     "metadata": {},
     "output_type": "execute_result"
    }
   ],
   "source": [
    "move.get_column()"
   ]
  },
  {
   "cell_type": "code",
   "execution_count": null,
   "id": "b071ec42",
   "metadata": {},
   "outputs": [],
   "source": []
  }
 ],
 "metadata": {
  "kernelspec": {
   "display_name": "Python 3 (ipykernel)",
   "language": "python",
   "name": "python3"
  },
  "language_info": {
   "codemirror_mode": {
    "name": "ipython",
    "version": 3
   },
   "file_extension": ".py",
   "mimetype": "text/x-python",
   "name": "python",
   "nbconvert_exporter": "python",
   "pygments_lexer": "ipython3",
   "version": "3.10.8"
  }
 },
 "nbformat": 4,
 "nbformat_minor": 5
}
