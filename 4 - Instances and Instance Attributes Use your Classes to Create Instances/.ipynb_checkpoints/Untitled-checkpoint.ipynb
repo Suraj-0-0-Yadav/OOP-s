{
 "cells": [
  {
   "cell_type": "markdown",
   "id": "dc881cb7",
   "metadata": {},
   "source": [
    "### Creating classes"
   ]
  },
  {
   "cell_type": "code",
   "execution_count": 1,
   "id": "fd3e1aee",
   "metadata": {},
   "outputs": [],
   "source": [
    "class House:\n",
    "    \n",
    "    def __init__(self, price):\n",
    "        self.price = price"
   ]
  },
  {
   "cell_type": "markdown",
   "id": "86e6c5d4",
   "metadata": {},
   "source": [
    "***"
   ]
  },
  {
   "cell_type": "code",
   "execution_count": 2,
   "id": "49a147fd",
   "metadata": {},
   "outputs": [],
   "source": [
    "class Backpack:\n",
    "    \n",
    "    def __init__(self):\n",
    "        self.items = []"
   ]
  },
  {
   "cell_type": "markdown",
   "id": "8f58f44c",
   "metadata": {},
   "source": [
    "***"
   ]
  },
  {
   "cell_type": "code",
   "execution_count": 3,
   "id": "6f305287",
   "metadata": {},
   "outputs": [],
   "source": [
    "class Backpack:\n",
    "    \n",
    "    def __init__(self, color, size):\n",
    "        self.items = []\n",
    "        self.color = color\n",
    "        self.size = size"
   ]
  },
  {
   "cell_type": "markdown",
   "id": "26baf273",
   "metadata": {},
   "source": [
    "***"
   ]
  },
  {
   "cell_type": "code",
   "execution_count": 1,
   "id": "0e3c14d9",
   "metadata": {},
   "outputs": [],
   "source": [
    "class Circle:\n",
    "    \n",
    "    def __init__(self, radius):\n",
    "        self.radius = radius"
   ]
  },
  {
   "cell_type": "markdown",
   "id": "1726f50d",
   "metadata": {},
   "source": [
    "***"
   ]
  },
  {
   "cell_type": "markdown",
   "id": "3b12dec8",
   "metadata": {},
   "source": [
    "### Create Instances of class"
   ]
  },
  {
   "cell_type": "code",
   "execution_count": 2,
   "id": "61b98bba",
   "metadata": {},
   "outputs": [],
   "source": [
    "class Backpack:\n",
    "    \n",
    "    def __init__(self):\n",
    "        self.items = []"
   ]
  },
  {
   "cell_type": "code",
   "execution_count": 3,
   "id": "c366fbc8",
   "metadata": {},
   "outputs": [],
   "source": [
    "my_backpack = Backpack()  # No argument"
   ]
  },
  {
   "cell_type": "code",
   "execution_count": 4,
   "id": "97dd965f",
   "metadata": {},
   "outputs": [
    {
     "name": "stdout",
     "output_type": "stream",
     "text": [
      "<__main__.Backpack object at 0x000002075EB085B0>\n"
     ]
    }
   ],
   "source": [
    "print(my_backpack)"
   ]
  },
  {
   "cell_type": "markdown",
   "id": "01a758a8",
   "metadata": {},
   "source": [
    "***"
   ]
  },
  {
   "cell_type": "code",
   "execution_count": 5,
   "id": "a98ef335",
   "metadata": {},
   "outputs": [],
   "source": [
    "class Cricle:\n",
    "    \n",
    "    def __init__(self, radius):\n",
    "        self.radius = radius"
   ]
  },
  {
   "cell_type": "code",
   "execution_count": 7,
   "id": "db55291c",
   "metadata": {},
   "outputs": [],
   "source": [
    "my_circle = Circle(5)  # One argument"
   ]
  },
  {
   "cell_type": "code",
   "execution_count": 8,
   "id": "44d109eb",
   "metadata": {},
   "outputs": [
    {
     "name": "stdout",
     "output_type": "stream",
     "text": [
      "<__main__.Circle object at 0x000002075E2D4520>\n"
     ]
    }
   ],
   "source": [
    "print(my_circle)"
   ]
  },
  {
   "cell_type": "markdown",
   "id": "19e5e5e2",
   "metadata": {},
   "source": [
    "***"
   ]
  },
  {
   "cell_type": "code",
   "execution_count": 10,
   "id": "bf45e981",
   "metadata": {},
   "outputs": [],
   "source": [
    "class Rectangle:\n",
    "    \n",
    "    def __init__(self, length, width):\n",
    "        self.length = length\n",
    "        self.width = width"
   ]
  },
  {
   "cell_type": "code",
   "execution_count": 12,
   "id": "d6234e03",
   "metadata": {},
   "outputs": [],
   "source": [
    "my_rectangle = Rectangle(12, 15)  # Multiple argument"
   ]
  },
  {
   "cell_type": "markdown",
   "id": "fb87f366",
   "metadata": {},
   "source": [
    "***"
   ]
  },
  {
   "cell_type": "markdown",
   "id": "c16746fc",
   "metadata": {},
   "source": [
    "### Access Instance Attributes"
   ]
  },
  {
   "cell_type": "code",
   "execution_count": 13,
   "id": "df828bc3",
   "metadata": {},
   "outputs": [],
   "source": [
    "class Backpack:\n",
    "    \n",
    "    def __init__(self):\n",
    "        self.items = []\n",
    "        \n",
    "        print(self.items)"
   ]
  },
  {
   "cell_type": "code",
   "execution_count": 14,
   "id": "ed3c71ac",
   "metadata": {},
   "outputs": [
    {
     "name": "stdout",
     "output_type": "stream",
     "text": [
      "[]\n"
     ]
    }
   ],
   "source": [
    "my_backpack = Backpack()"
   ]
  },
  {
   "cell_type": "code",
   "execution_count": 15,
   "id": "0f8b40c4",
   "metadata": {},
   "outputs": [
    {
     "data": {
      "text/plain": [
       "[]"
      ]
     },
     "execution_count": 15,
     "metadata": {},
     "output_type": "execute_result"
    }
   ],
   "source": [
    "my_backpack.items"
   ]
  },
  {
   "cell_type": "markdown",
   "id": "0331c500",
   "metadata": {},
   "source": [
    "***"
   ]
  },
  {
   "cell_type": "markdown",
   "id": "3bf0fc0e",
   "metadata": {},
   "source": [
    "### Default Arguments"
   ]
  },
  {
   "cell_type": "markdown",
   "id": "f3db20c8",
   "metadata": {},
   "source": [
    "Deafault arguemnt must be the last parameter"
   ]
  },
  {
   "cell_type": "code",
   "execution_count": 18,
   "id": "10fffde5",
   "metadata": {},
   "outputs": [],
   "source": [
    "class Circle:\n",
    "    \n",
    "    def __init__(self, radius=5):\n",
    "        self.radius = radius"
   ]
  },
  {
   "cell_type": "code",
   "execution_count": 19,
   "id": "54531cb5",
   "metadata": {},
   "outputs": [],
   "source": [
    "my_circle_1 = Circle()  # Default argument"
   ]
  },
  {
   "cell_type": "code",
   "execution_count": 21,
   "id": "fd5b3c9d",
   "metadata": {},
   "outputs": [
    {
     "data": {
      "text/plain": [
       "5"
      ]
     },
     "execution_count": 21,
     "metadata": {},
     "output_type": "execute_result"
    }
   ],
   "source": [
    "my_circle_1.radius"
   ]
  },
  {
   "cell_type": "code",
   "execution_count": 20,
   "id": "056d27c7",
   "metadata": {},
   "outputs": [],
   "source": [
    "my_circle_2 = Circle(10)"
   ]
  },
  {
   "cell_type": "code",
   "execution_count": 22,
   "id": "a687b95d",
   "metadata": {},
   "outputs": [
    {
     "data": {
      "text/plain": [
       "10"
      ]
     },
     "execution_count": 22,
     "metadata": {},
     "output_type": "execute_result"
    }
   ],
   "source": [
    "my_circle_2.radius"
   ]
  },
  {
   "cell_type": "markdown",
   "id": "93178bff",
   "metadata": {},
   "source": [
    "***"
   ]
  },
  {
   "cell_type": "code",
   "execution_count": null,
   "id": "38751813",
   "metadata": {},
   "outputs": [],
   "source": []
  }
 ],
 "metadata": {
  "kernelspec": {
   "display_name": "Python 3 (ipykernel)",
   "language": "python",
   "name": "python3"
  },
  "language_info": {
   "codemirror_mode": {
    "name": "ipython",
    "version": 3
   },
   "file_extension": ".py",
   "mimetype": "text/x-python",
   "name": "python",
   "nbconvert_exporter": "python",
   "pygments_lexer": "ipython3",
   "version": "3.10.8"
  }
 },
 "nbformat": 4,
 "nbformat_minor": 5
}
