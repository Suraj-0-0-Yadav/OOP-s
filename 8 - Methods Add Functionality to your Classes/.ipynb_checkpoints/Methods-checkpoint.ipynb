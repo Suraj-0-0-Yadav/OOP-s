{
 "cells": [
  {
   "cell_type": "code",
   "execution_count": 10,
   "id": "a1e4ddde",
   "metadata": {},
   "outputs": [],
   "source": [
    "class Circle:\n",
    "    \n",
    "    def __init__(self, radius):\n",
    "        self.radius = radius\n",
    "\n",
    "    def find_diameter(self):\n",
    "        return 2*self.radius"
   ]
  },
  {
   "cell_type": "code",
   "execution_count": 11,
   "id": "53abf0c5",
   "metadata": {},
   "outputs": [],
   "source": [
    "my_circle = Circle(3.5)"
   ]
  },
  {
   "cell_type": "code",
   "execution_count": 12,
   "id": "9437e956",
   "metadata": {},
   "outputs": [
    {
     "data": {
      "text/plain": [
       "3.5"
      ]
     },
     "execution_count": 12,
     "metadata": {},
     "output_type": "execute_result"
    }
   ],
   "source": [
    "my_circle.radius"
   ]
  },
  {
   "cell_type": "code",
   "execution_count": 13,
   "id": "f1f0d64c",
   "metadata": {},
   "outputs": [
    {
     "data": {
      "text/plain": [
       "7.0"
      ]
     },
     "execution_count": 13,
     "metadata": {},
     "output_type": "execute_result"
    }
   ],
   "source": [
    "my_circle.find_diameter()"
   ]
  },
  {
   "cell_type": "markdown",
   "id": "d1efed14",
   "metadata": {},
   "source": [
    "***"
   ]
  },
  {
   "cell_type": "code",
   "execution_count": 48,
   "id": "133c6d3d",
   "metadata": {},
   "outputs": [],
   "source": [
    "class Backpack:\n",
    "    \n",
    "    def __init__(self):\n",
    "        self._items = []\n",
    "        \n",
    "    def add_item(self, new_item):\n",
    "        if isinstance(new_item, str):\n",
    "            self._items.append(new_item)\n",
    "        else:\n",
    "            print(\"Enter a valid Item name\")\n",
    "    \n",
    "    def has_item(self, item_name):\n",
    "        return item_name in self._items\n",
    "    \n",
    "    def remove_item(self, item_name):\n",
    "        if self.has_item(item_name):\n",
    "            self._items.remove(item_name)\n",
    "            print(f\"{item_name} removed from backpack\")\n",
    "        else:\n",
    "            print(\"No such item in the backpack\")\n",
    "    \n",
    "    def get_items(self):\n",
    "        return self._items"
   ]
  },
  {
   "cell_type": "code",
   "execution_count": 49,
   "id": "1c0aac7c",
   "metadata": {},
   "outputs": [],
   "source": [
    "my_backpack = Backpack()"
   ]
  },
  {
   "cell_type": "code",
   "execution_count": 50,
   "id": "2dcb3f19",
   "metadata": {},
   "outputs": [
    {
     "data": {
      "text/plain": [
       "[]"
      ]
     },
     "execution_count": 50,
     "metadata": {},
     "output_type": "execute_result"
    }
   ],
   "source": [
    "my_backpack.get_items()"
   ]
  },
  {
   "cell_type": "code",
   "execution_count": 51,
   "id": "757bafd2",
   "metadata": {},
   "outputs": [],
   "source": [
    "my_backpack.add_item(\"Laptop\")"
   ]
  },
  {
   "cell_type": "code",
   "execution_count": 52,
   "id": "b85e226a",
   "metadata": {},
   "outputs": [],
   "source": [
    "my_backpack.add_item(\"Charger\")"
   ]
  },
  {
   "cell_type": "code",
   "execution_count": 53,
   "id": "67a3c7a5",
   "metadata": {},
   "outputs": [
    {
     "data": {
      "text/plain": [
       "['Laptop', 'Charger']"
      ]
     },
     "execution_count": 53,
     "metadata": {},
     "output_type": "execute_result"
    }
   ],
   "source": [
    "my_backpack.get_items()"
   ]
  },
  {
   "cell_type": "code",
   "execution_count": 54,
   "id": "25276313",
   "metadata": {},
   "outputs": [
    {
     "data": {
      "text/plain": [
       "True"
      ]
     },
     "execution_count": 54,
     "metadata": {},
     "output_type": "execute_result"
    }
   ],
   "source": [
    "my_backpack.has_item(\"Laptop\")"
   ]
  },
  {
   "cell_type": "code",
   "execution_count": 55,
   "id": "49355ac9",
   "metadata": {},
   "outputs": [
    {
     "name": "stdout",
     "output_type": "stream",
     "text": [
      "No such item in the backpack\n"
     ]
    }
   ],
   "source": [
    "my_backpack.remove_item(\"Laptopy\")"
   ]
  },
  {
   "cell_type": "code",
   "execution_count": 56,
   "id": "8f382a7f",
   "metadata": {},
   "outputs": [
    {
     "name": "stdout",
     "output_type": "stream",
     "text": [
      "Laptop removed from backpack\n"
     ]
    }
   ],
   "source": [
    "my_backpack.remove_item(\"Laptop\")"
   ]
  },
  {
   "cell_type": "code",
   "execution_count": 58,
   "id": "574e2839",
   "metadata": {},
   "outputs": [
    {
     "data": {
      "text/plain": [
       "['Charger']"
      ]
     },
     "execution_count": 58,
     "metadata": {},
     "output_type": "execute_result"
    }
   ],
   "source": [
    "my_backpack.get_items()"
   ]
  },
  {
   "cell_type": "markdown",
   "id": "33866f38",
   "metadata": {},
   "source": [
    "***"
   ]
  },
  {
   "cell_type": "markdown",
   "id": "1e01e993",
   "metadata": {},
   "source": [
    "### Method Chaining "
   ]
  },
  {
   "cell_type": "code",
   "execution_count": 59,
   "id": "70352d5e",
   "metadata": {},
   "outputs": [],
   "source": [
    "class Pizza:\n",
    "    \n",
    "    def __init__(self):\n",
    "        self.toppings= []\n",
    "    \n",
    "    def add_topping(self, topping):\n",
    "        self.toppings.append(topping.lower())\n",
    "        return self\n",
    "    \n",
    "    def display_topping(self):\n",
    "        print(\"The pizza has :\")\n",
    "        for toping in self.toppings:\n",
    "            print(toping.upper())"
   ]
  },
  {
   "cell_type": "code",
   "execution_count": 60,
   "id": "565ca325",
   "metadata": {},
   "outputs": [],
   "source": [
    "my_pizza = Pizza()"
   ]
  },
  {
   "cell_type": "code",
   "execution_count": 61,
   "id": "49b26b88",
   "metadata": {},
   "outputs": [
    {
     "name": "stdout",
     "output_type": "stream",
     "text": [
      "The pizza has :\n",
      "MUSHTOOMS\n",
      "OLIVES\n",
      "CHICKEN\n"
     ]
    }
   ],
   "source": [
    "my_pizza.add_topping(\"mushtooms\").add_topping(\"olives\").add_topping(\"Chicken\").display_topping()"
   ]
  },
  {
   "cell_type": "code",
   "execution_count": null,
   "id": "1e327f98",
   "metadata": {},
   "outputs": [],
   "source": []
  }
 ],
 "metadata": {
  "kernelspec": {
   "display_name": "Python 3 (ipykernel)",
   "language": "python",
   "name": "python3"
  },
  "language_info": {
   "codemirror_mode": {
    "name": "ipython",
    "version": 3
   },
   "file_extension": ".py",
   "mimetype": "text/x-python",
   "name": "python",
   "nbconvert_exporter": "python",
   "pygments_lexer": "ipython3",
   "version": "3.10.8"
  }
 },
 "nbformat": 4,
 "nbformat_minor": 5
}
