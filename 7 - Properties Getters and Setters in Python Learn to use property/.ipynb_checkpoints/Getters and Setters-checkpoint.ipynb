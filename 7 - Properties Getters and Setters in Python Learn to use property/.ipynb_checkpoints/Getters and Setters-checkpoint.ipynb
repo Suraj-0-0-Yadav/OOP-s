{
 "cells": [
  {
   "cell_type": "markdown",
   "id": "59a18921",
   "metadata": {},
   "source": [
    "### Getters and Setters\n",
    "<span style=\"font-size:17;font-family:Verdana;font-weight:1px\">They let us **get** and **set** the values of an instance attributes</span>"
   ]
  },
  {
   "cell_type": "code",
   "execution_count": 1,
   "id": "fd941d9a",
   "metadata": {},
   "outputs": [],
   "source": [
    "class Movie:\n",
    "    \n",
    "    def __init__(self, title, rating):\n",
    "        self._title = title\n",
    "        self.rating = rating\n",
    "    \n",
    "    def get_title(self):\n",
    "        return self._title"
   ]
  },
  {
   "cell_type": "code",
   "execution_count": 2,
   "id": "e003eec2",
   "metadata": {},
   "outputs": [],
   "source": [
    "my_movie = Movie(\"RRR\",4.9)"
   ]
  },
  {
   "cell_type": "code",
   "execution_count": 3,
   "id": "3ba210af",
   "metadata": {},
   "outputs": [
    {
     "data": {
      "text/plain": [
       "'RRR'"
      ]
     },
     "execution_count": 3,
     "metadata": {},
     "output_type": "execute_result"
    }
   ],
   "source": [
    "my_movie.get_title()"
   ]
  },
  {
   "cell_type": "markdown",
   "id": "13b70297",
   "metadata": {},
   "source": [
    "***"
   ]
  },
  {
   "cell_type": "code",
   "execution_count": 4,
   "id": "db52828c",
   "metadata": {},
   "outputs": [],
   "source": [
    "class Dog:\n",
    "    \n",
    "    def __init__(self, name, age):\n",
    "        self._name = name\n",
    "        self.age = age\n",
    "    \n",
    "    \n",
    "    def get_name(self):\n",
    "        return self._name\n",
    "    \n",
    "    def set_name(self, new_name):\n",
    "        if isinstance(new_name,str) and new_name.isalpha():\n",
    "            self._name = new_name\n",
    "        else:\n",
    "            print(\"Please enter a valid name\")"
   ]
  },
  {
   "cell_type": "code",
   "execution_count": 6,
   "id": "b8b30026",
   "metadata": {},
   "outputs": [],
   "source": [
    "my_dog = Dog(\"Blacky\", 10)"
   ]
  },
  {
   "cell_type": "code",
   "execution_count": 7,
   "id": "4e48ec1b",
   "metadata": {},
   "outputs": [
    {
     "data": {
      "text/plain": [
       "'Blacky'"
      ]
     },
     "execution_count": 7,
     "metadata": {},
     "output_type": "execute_result"
    }
   ],
   "source": [
    "my_dog.get_name()"
   ]
  },
  {
   "cell_type": "code",
   "execution_count": 10,
   "id": "e765e40d",
   "metadata": {},
   "outputs": [],
   "source": [
    "my_dog.set_name(\"Sheru\")"
   ]
  },
  {
   "cell_type": "code",
   "execution_count": 11,
   "id": "fa2e9822",
   "metadata": {},
   "outputs": [
    {
     "data": {
      "text/plain": [
       "'Sheru'"
      ]
     },
     "execution_count": 11,
     "metadata": {},
     "output_type": "execute_result"
    }
   ],
   "source": [
    "my_dog.get_name()"
   ]
  },
  {
   "cell_type": "markdown",
   "id": "819de1ac",
   "metadata": {},
   "source": [
    "***"
   ]
  },
  {
   "cell_type": "markdown",
   "id": "4bcc0335",
   "metadata": {},
   "source": [
    "### Properties"
   ]
  },
  {
   "cell_type": "code",
   "execution_count": 16,
   "id": "4db4f0f2",
   "metadata": {},
   "outputs": [],
   "source": [
    "class Dog:\n",
    "    \n",
    "    def __init__(self, age):\n",
    "        self._age = age"
   ]
  },
  {
   "cell_type": "code",
   "execution_count": 17,
   "id": "8ab22f0f",
   "metadata": {},
   "outputs": [],
   "source": [
    "my_dog = Dog(10)"
   ]
  },
  {
   "cell_type": "code",
   "execution_count": 18,
   "id": "50a0e1c5",
   "metadata": {},
   "outputs": [
    {
     "ename": "AttributeError",
     "evalue": "'Dog' object has no attribute 'age'",
     "output_type": "error",
     "traceback": [
      "\u001b[1;31m---------------------------------------------------------------------------\u001b[0m",
      "\u001b[1;31mAttributeError\u001b[0m                            Traceback (most recent call last)",
      "Cell \u001b[1;32mIn[18], line 1\u001b[0m\n\u001b[1;32m----> 1\u001b[0m \u001b[38;5;28mprint\u001b[39m(\u001b[38;5;124mf\u001b[39m\u001b[38;5;124m\"\u001b[39m\u001b[38;5;124mMy dog is \u001b[39m\u001b[38;5;132;01m{\u001b[39;00mmy_dog\u001b[38;5;241m.\u001b[39mage\u001b[38;5;132;01m}\u001b[39;00m\u001b[38;5;124m years old\u001b[39m\u001b[38;5;124m\"\u001b[39m)\n\u001b[0;32m      3\u001b[0m my_dog\u001b[38;5;241m.\u001b[39mage \u001b[38;5;241m+\u001b[39m\u001b[38;5;241m=\u001b[39m \u001b[38;5;241m1\u001b[39m\n\u001b[0;32m      5\u001b[0m \u001b[38;5;28mprint\u001b[39m(\u001b[38;5;124mf\u001b[39m\u001b[38;5;124m\"\u001b[39m\u001b[38;5;124mNow after one year his age is \u001b[39m\u001b[38;5;132;01m{\u001b[39;00mmy_dog\u001b[38;5;241m.\u001b[39mage\u001b[38;5;132;01m}\u001b[39;00m\u001b[38;5;124m\"\u001b[39m)\n",
      "\u001b[1;31mAttributeError\u001b[0m: 'Dog' object has no attribute 'age'"
     ]
    }
   ],
   "source": [
    "print(f\"My dog is {my_dog.age} years old\")\n",
    "\n",
    "my_dog.age += 1\n",
    "\n",
    "print(f\"Now after one year his age is {my_dog.age}\")"
   ]
  },
  {
   "cell_type": "markdown",
   "id": "134f2490",
   "metadata": {},
   "source": [
    "***"
   ]
  },
  {
   "cell_type": "code",
   "execution_count": 23,
   "id": "857ca840",
   "metadata": {},
   "outputs": [],
   "source": [
    "class Dog:\n",
    "    \n",
    "    def __init__(self, age):\n",
    "        self._age = age\n",
    "    \n",
    "    def get_age(self):\n",
    "        return self._age\n",
    "    \n",
    "    def set_age(self, new_age):\n",
    "        if isinstance(new_age, int) and 0 < new_age < 30:\n",
    "            self._age = new_age\n",
    "        else:\n",
    "            print(\"Please enter a valid age !!!\")\n",
    "    \n",
    "    age = property(get_age, set_age)"
   ]
  },
  {
   "cell_type": "code",
   "execution_count": 24,
   "id": "648a6ec1",
   "metadata": {},
   "outputs": [],
   "source": [
    "my_dog = Dog(12)"
   ]
  },
  {
   "cell_type": "code",
   "execution_count": 25,
   "id": "3e7cd9cd",
   "metadata": {},
   "outputs": [
    {
     "name": "stdout",
     "output_type": "stream",
     "text": [
      "My dog is 12 years old\n",
      "Now after one year his age is 13\n"
     ]
    }
   ],
   "source": [
    "print(f\"My dog is {my_dog.age} years old\")\n",
    "\n",
    "my_dog.age += 1\n",
    "\n",
    "print(f\"Now after one year his age is {my_dog.age}\")"
   ]
  },
  {
   "cell_type": "markdown",
   "id": "7c4bcf35",
   "metadata": {},
   "source": [
    "***"
   ]
  },
  {
   "cell_type": "code",
   "execution_count": 31,
   "id": "a9132940",
   "metadata": {},
   "outputs": [],
   "source": [
    "class Dog:\n",
    "    \n",
    "    def __init__(self, age):\n",
    "        self._age = age\n",
    "    \n",
    "    def get_age(self):\n",
    "        print(\"Calling getter\")\n",
    "        return self._age\n",
    "    \n",
    "    def set_age(self, new_age):\n",
    "        print(\"Calling setter\")\n",
    "        if isinstance(new_age, int) and 0 < new_age < 100:\n",
    "            self._age = new_age\n",
    "        else:\n",
    "            print(\"Please enter a valid age !!!\")\n",
    "    \n",
    "    age = property(get_age, set_age)"
   ]
  },
  {
   "cell_type": "code",
   "execution_count": 35,
   "id": "8c85f15b",
   "metadata": {},
   "outputs": [],
   "source": [
    "my_dog = Dog(50)"
   ]
  },
  {
   "cell_type": "code",
   "execution_count": 36,
   "id": "43fb9545",
   "metadata": {},
   "outputs": [
    {
     "name": "stdout",
     "output_type": "stream",
     "text": [
      "Calling getter\n",
      "My dog is 50 years old\n",
      "Calling getter\n",
      "Calling setter\n",
      "Calling getter\n",
      "Now after one year his age is 51\n"
     ]
    }
   ],
   "source": [
    "print(f\"My dog is {my_dog.age} years old\")\n",
    "\n",
    "my_dog.age += 1\n",
    "\n",
    "print(f\"Now after one year his age is {my_dog.age}\")"
   ]
  },
  {
   "cell_type": "markdown",
   "id": "db420be9",
   "metadata": {},
   "source": [
    "***"
   ]
  },
  {
   "cell_type": "markdown",
   "id": "0af2ac68",
   "metadata": {},
   "source": [
    "### @property decorator"
   ]
  },
  {
   "cell_type": "markdown",
   "id": "55f0bc1f",
   "metadata": {},
   "source": [
    "#### What is Decorator ?\n",
    "A function that takes a function and extends its behavior without explicitly modifying it"
   ]
  },
  {
   "cell_type": "code",
   "execution_count": null,
   "id": "d85af19a",
   "metadata": {},
   "outputs": [],
   "source": []
  },
  {
   "cell_type": "code",
   "execution_count": 1,
   "id": "454509da",
   "metadata": {},
   "outputs": [],
   "source": [
    "class Movie:\n",
    "    \n",
    "    def __init__(self, title, rating):\n",
    "        self.title = title\n",
    "        self._rating = rating\n",
    "    \n",
    "    @property                 # Behave as getter\n",
    "    def rating(self):\n",
    "        return self._rating\n",
    "    "
   ]
  },
  {
   "cell_type": "code",
   "execution_count": 2,
   "id": "d00eb32e",
   "metadata": {},
   "outputs": [],
   "source": [
    "my_movie = Movie(\"Titanic\", 4.5)"
   ]
  },
  {
   "cell_type": "code",
   "execution_count": 3,
   "id": "3ba63ff4",
   "metadata": {},
   "outputs": [
    {
     "data": {
      "text/plain": [
       "4.5"
      ]
     },
     "execution_count": 3,
     "metadata": {},
     "output_type": "execute_result"
    }
   ],
   "source": [
    "my_movie.rating"
   ]
  },
  {
   "cell_type": "markdown",
   "id": "63b529de",
   "metadata": {},
   "source": [
    "***"
   ]
  },
  {
   "cell_type": "code",
   "execution_count": 12,
   "id": "ed9b52bb",
   "metadata": {},
   "outputs": [],
   "source": [
    "class Movie:\n",
    "    \n",
    "    def __init__(self, title, rating):\n",
    "        self.title = title\n",
    "        self._rating = rating\n",
    "    \n",
    "    @property                 # Behave as getter\n",
    "    def rating(self):\n",
    "        return self._rating\n",
    "    \n",
    "    @rating.setter           # Behave as setter\n",
    "    def rating(self, new_rating):\n",
    "        if (isinstance(new_rating, float) or isinstance(new_rating, int)) and 1.0 < new_rating < 5.0:\n",
    "            self._rating = new_rating\n",
    "        else:\n",
    "            print(\"Please enter a valid rating !!!\")"
   ]
  },
  {
   "cell_type": "code",
   "execution_count": 13,
   "id": "7d45f41a",
   "metadata": {},
   "outputs": [],
   "source": [
    "my_movie = Movie(\"Spider-Man: No way Home\", 4.2)"
   ]
  },
  {
   "cell_type": "code",
   "execution_count": 14,
   "id": "6f4e9172",
   "metadata": {},
   "outputs": [
    {
     "data": {
      "text/plain": [
       "'Spider-Man: No way Home'"
      ]
     },
     "execution_count": 14,
     "metadata": {},
     "output_type": "execute_result"
    }
   ],
   "source": [
    "my_movie.title"
   ]
  },
  {
   "cell_type": "code",
   "execution_count": 15,
   "id": "defb7cfc",
   "metadata": {},
   "outputs": [
    {
     "data": {
      "text/plain": [
       "4.2"
      ]
     },
     "execution_count": 15,
     "metadata": {},
     "output_type": "execute_result"
    }
   ],
   "source": [
    "my_movie.rating"
   ]
  },
  {
   "cell_type": "code",
   "execution_count": 16,
   "id": "91b3347b",
   "metadata": {},
   "outputs": [],
   "source": [
    "my_movie.rating = 4.5"
   ]
  },
  {
   "cell_type": "code",
   "execution_count": 17,
   "id": "537de67f",
   "metadata": {},
   "outputs": [
    {
     "data": {
      "text/plain": [
       "4.5"
      ]
     },
     "execution_count": 17,
     "metadata": {},
     "output_type": "execute_result"
    }
   ],
   "source": [
    "my_movie.rating"
   ]
  },
  {
   "cell_type": "code",
   "execution_count": null,
   "id": "d3828e6e",
   "metadata": {},
   "outputs": [],
   "source": []
  }
 ],
 "metadata": {
  "kernelspec": {
   "display_name": "Python 3 (ipykernel)",
   "language": "python",
   "name": "python3"
  },
  "language_info": {
   "codemirror_mode": {
    "name": "ipython",
    "version": 3
   },
   "file_extension": ".py",
   "mimetype": "text/x-python",
   "name": "python",
   "nbconvert_exporter": "python",
   "pygments_lexer": "ipython3",
   "version": "3.10.8"
  }
 },
 "nbformat": 4,
 "nbformat_minor": 5
}
