{
 "cells": [
  {
   "cell_type": "markdown",
   "id": "049063d5",
   "metadata": {},
   "source": [
    "### Class Atributes"
   ]
  },
  {
   "cell_type": "code",
   "execution_count": 1,
   "id": "5a1e5ea7",
   "metadata": {},
   "outputs": [],
   "source": [
    "class Dog:\n",
    "    \n",
    "    species = 'Canis Lupus'  # class attributes\n",
    "    \n",
    "    def __init__(self, name, age, breed):\n",
    "        self.name = name\n",
    "        self.age = age\n",
    "        self.breed = breed"
   ]
  },
  {
   "cell_type": "code",
   "execution_count": 2,
   "id": "9823be96",
   "metadata": {},
   "outputs": [],
   "source": [
    "class Backpack:\n",
    "    \n",
    "    max_num_items = 10\n",
    "    \n",
    "    def __init__(self):\n",
    "        self.items = []"
   ]
  },
  {
   "cell_type": "markdown",
   "id": "3a6ddff9",
   "metadata": {},
   "source": [
    "***"
   ]
  },
  {
   "cell_type": "markdown",
   "id": "e602f6ec",
   "metadata": {},
   "source": [
    "### Access class attributes"
   ]
  },
  {
   "cell_type": "code",
   "execution_count": 3,
   "id": "a922083f",
   "metadata": {},
   "outputs": [],
   "source": [
    "class Dog:\n",
    "    \n",
    "    species = 'Canis Lupus'  # class attributes\n",
    "    \n",
    "    def __init__(self, name, age, breed):\n",
    "        self.name = name\n",
    "        self.age = age\n",
    "        self.breed = breed"
   ]
  },
  {
   "cell_type": "code",
   "execution_count": 4,
   "id": "9bdefe7d",
   "metadata": {},
   "outputs": [
    {
     "data": {
      "text/plain": [
       "'Canis Lupus'"
      ]
     },
     "execution_count": 4,
     "metadata": {},
     "output_type": "execute_result"
    }
   ],
   "source": [
    "Dog.species  # Without creating the object"
   ]
  },
  {
   "cell_type": "markdown",
   "id": "45142a66",
   "metadata": {},
   "source": [
    "***"
   ]
  },
  {
   "cell_type": "code",
   "execution_count": 5,
   "id": "e48dbd38",
   "metadata": {},
   "outputs": [],
   "source": [
    "class Movie:\n",
    "    \n",
    "    id_counter = 1\n",
    "    \n",
    "    def __init__(self, title, rating):\n",
    "        self.id = Movie.id_counter\n",
    "        self.title = title\n",
    "        self.rating = rating\n",
    "        \n",
    "        Movie.id_counter += 1"
   ]
  },
  {
   "cell_type": "code",
   "execution_count": 6,
   "id": "7ecb12a3",
   "metadata": {},
   "outputs": [],
   "source": [
    "my_movie = Movie(\"RRR\", 5)\n",
    "your_movie = Movie(\"KGF\", 4.9)"
   ]
  },
  {
   "cell_type": "code",
   "execution_count": 7,
   "id": "940b9892",
   "metadata": {},
   "outputs": [
    {
     "data": {
      "text/plain": [
       "1"
      ]
     },
     "execution_count": 7,
     "metadata": {},
     "output_type": "execute_result"
    }
   ],
   "source": [
    "my_movie.id"
   ]
  },
  {
   "cell_type": "code",
   "execution_count": 8,
   "id": "ed646d52",
   "metadata": {},
   "outputs": [
    {
     "data": {
      "text/plain": [
       "2"
      ]
     },
     "execution_count": 8,
     "metadata": {},
     "output_type": "execute_result"
    }
   ],
   "source": [
    "your_movie.id"
   ]
  },
  {
   "cell_type": "markdown",
   "id": "990d4782",
   "metadata": {},
   "source": [
    "***"
   ]
  },
  {
   "cell_type": "code",
   "execution_count": 9,
   "id": "6e9f8cfb",
   "metadata": {},
   "outputs": [],
   "source": [
    "class Backpack:\n",
    "    \n",
    "    max_num_items = 10\n",
    "    \n",
    "    def __init__(self):\n",
    "        self.items = []"
   ]
  },
  {
   "cell_type": "code",
   "execution_count": 10,
   "id": "f47ad5cc",
   "metadata": {},
   "outputs": [],
   "source": [
    "my_backpack = Backpack()\n",
    "your_backpack = Backpack()"
   ]
  },
  {
   "cell_type": "code",
   "execution_count": 11,
   "id": "bf714882",
   "metadata": {},
   "outputs": [
    {
     "data": {
      "text/plain": [
       "10"
      ]
     },
     "execution_count": 11,
     "metadata": {},
     "output_type": "execute_result"
    }
   ],
   "source": [
    "my_backpack.max_num_items"
   ]
  },
  {
   "cell_type": "code",
   "execution_count": 12,
   "id": "b29695dd",
   "metadata": {},
   "outputs": [
    {
     "data": {
      "text/plain": [
       "10"
      ]
     },
     "execution_count": 12,
     "metadata": {},
     "output_type": "execute_result"
    }
   ],
   "source": [
    "your_backpack.max_num_items"
   ]
  },
  {
   "cell_type": "markdown",
   "id": "8df37a51",
   "metadata": {},
   "source": [
    "***"
   ]
  },
  {
   "cell_type": "markdown",
   "id": "a66c1b18",
   "metadata": {},
   "source": [
    "### Modify the class attributes"
   ]
  },
  {
   "cell_type": "code",
   "execution_count": 22,
   "id": "e47238e8",
   "metadata": {},
   "outputs": [],
   "source": [
    "class Circle:\n",
    "    \n",
    "    radius = 5\n",
    "    \n",
    "    def __init__(self, color):\n",
    "        self.color = color"
   ]
  },
  {
   "cell_type": "code",
   "execution_count": 23,
   "id": "04018c2f",
   "metadata": {},
   "outputs": [
    {
     "data": {
      "text/plain": [
       "5"
      ]
     },
     "execution_count": 23,
     "metadata": {},
     "output_type": "execute_result"
    }
   ],
   "source": [
    "Circle.radius"
   ]
  },
  {
   "cell_type": "code",
   "execution_count": 24,
   "id": "951ecbf0",
   "metadata": {},
   "outputs": [],
   "source": [
    "my_circle = Circle(\"Blue\")\n",
    "your_cicrle = Circle(\"Green\")"
   ]
  },
  {
   "cell_type": "code",
   "execution_count": 25,
   "id": "727288b6",
   "metadata": {},
   "outputs": [
    {
     "data": {
      "text/plain": [
       "5"
      ]
     },
     "execution_count": 25,
     "metadata": {},
     "output_type": "execute_result"
    }
   ],
   "source": [
    "my_circle.radius"
   ]
  },
  {
   "cell_type": "code",
   "execution_count": 26,
   "id": "46cf1275",
   "metadata": {},
   "outputs": [
    {
     "data": {
      "text/plain": [
       "5"
      ]
     },
     "execution_count": 26,
     "metadata": {},
     "output_type": "execute_result"
    }
   ],
   "source": [
    "your_cicrle.radius"
   ]
  },
  {
   "cell_type": "code",
   "execution_count": 27,
   "id": "c98e5593",
   "metadata": {},
   "outputs": [],
   "source": [
    "# Modify the class attributes\n",
    "\n",
    "Circle.radius = 10"
   ]
  },
  {
   "cell_type": "code",
   "execution_count": 28,
   "id": "90c04951",
   "metadata": {},
   "outputs": [
    {
     "name": "stdout",
     "output_type": "stream",
     "text": [
      "10\n",
      "10\n",
      "10\n"
     ]
    }
   ],
   "source": [
    "print(Circle.radius)\n",
    "print(my_circle.radius)\n",
    "print(your_cicrle.radius)"
   ]
  },
  {
   "cell_type": "code",
   "execution_count": null,
   "id": "a196fa6a",
   "metadata": {},
   "outputs": [],
   "source": []
  }
 ],
 "metadata": {
  "kernelspec": {
   "display_name": "Python 3 (ipykernel)",
   "language": "python",
   "name": "python3"
  },
  "language_info": {
   "codemirror_mode": {
    "name": "ipython",
    "version": 3
   },
   "file_extension": ".py",
   "mimetype": "text/x-python",
   "name": "python",
   "nbconvert_exporter": "python",
   "pygments_lexer": "ipython3",
   "version": "3.10.8"
  }
 },
 "nbformat": 4,
 "nbformat_minor": 5
}
